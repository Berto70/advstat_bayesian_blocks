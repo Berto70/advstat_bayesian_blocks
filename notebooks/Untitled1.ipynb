{
 "cells": [
  {
   "cell_type": "code",
   "execution_count": 1,
   "id": "91c93178-e1ef-4af2-9acb-19445add4e5c",
   "metadata": {},
   "outputs": [
    {
     "name": "stderr",
     "output_type": "stream",
     "text": [
      "\n",
      "Caricamento pacchetto: 'dplyr'\n",
      "\n",
      "\n",
      "I seguenti oggetti sono mascherati da 'package:stats':\n",
      "\n",
      "    filter, lag\n",
      "\n",
      "\n",
      "I seguenti oggetti sono mascherati da 'package:base':\n",
      "\n",
      "    intersect, setdiff, setequal, union\n",
      "\n",
      "\n"
     ]
    }
   ],
   "source": [
    "library(dplyr)\n",
    "#source('./bayesian_blocksR/R/bb_func.R')\n",
    "source('./func_bb.R')"
   ]
  },
  {
   "cell_type": "code",
   "execution_count": 31,
   "id": "22ffadaf-5cf1-4171-b9d9-b23fadf316fd",
   "metadata": {},
   "outputs": [],
   "source": [
    "t = read.csv('Tdata.txt',header = F)$V1\n",
    "#x_obs = as.numeric(read.csv('Xdata.txt',header = F)$V1)"
   ]
  },
  {
   "cell_type": "code",
   "execution_count": 32,
   "id": "b660b65b-a0ee-40e8-82a2-69ff298c4c94",
   "metadata": {},
   "outputs": [],
   "source": [
    "edges <- bayesian_blocks(t, p0=0.01, data_type = 'Events')"
   ]
  },
  {
   "cell_type": "code",
   "execution_count": 33,
   "id": "0ca961dd-d000-4183-a52a-b13982b0b068",
   "metadata": {},
   "outputs": [
    {
     "data": {
      "text/html": [
       "<style>\n",
       ".list-inline {list-style: none; margin:0; padding: 0}\n",
       ".list-inline>li {display: inline-block}\n",
       ".list-inline>li:not(:last-child)::after {content: \"\\00b7\"; padding: 0 .5ex}\n",
       "</style>\n",
       "<ol class=list-inline><li>-2.64934289267353</li><li>-0.816143061262681</li><li>0.887720450002982</li><li>2.44229357690651</li></ol>\n"
      ],
      "text/latex": [
       "\\begin{enumerate*}\n",
       "\\item -2.64934289267353\n",
       "\\item -0.816143061262681\n",
       "\\item 0.887720450002982\n",
       "\\item 2.44229357690651\n",
       "\\end{enumerate*}\n"
      ],
      "text/markdown": [
       "1. -2.64934289267353\n",
       "2. -0.816143061262681\n",
       "3. 0.887720450002982\n",
       "4. 2.44229357690651\n",
       "\n",
       "\n"
      ],
      "text/plain": [
       "[1] -2.6493429 -0.8161431  0.8877205  2.4422936"
      ]
     },
     "metadata": {},
     "output_type": "display_data"
    }
   ],
   "source": [
    "edges"
   ]
  },
  {
   "cell_type": "code",
   "execution_count": null,
   "id": "2bf3e423-c6c2-4076-b4b8-7985c893d716",
   "metadata": {},
   "outputs": [],
   "source": []
  }
 ],
 "metadata": {
  "kernelspec": {
   "display_name": "R",
   "language": "R",
   "name": "ir"
  },
  "language_info": {
   "codemirror_mode": "r",
   "file_extension": ".r",
   "mimetype": "text/x-r-source",
   "name": "R",
   "pygments_lexer": "r",
   "version": "4.3.3"
  }
 },
 "nbformat": 4,
 "nbformat_minor": 5
}
